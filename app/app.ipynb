{
 "cells": [
  {
   "cell_type": "markdown",
   "metadata": {},
   "source": [
    "模組匯入"
   ]
  },
  {
   "cell_type": "code",
   "execution_count": 1,
   "metadata": {},
   "outputs": [],
   "source": [
    "from email.mime.multipart import MIMEMultipart\n",
    "from email.mime.text import MIMEText\n",
    "from string import Template\n",
    "from pathlib import Path\n",
    "import configparser"
   ]
  },
  {
   "cell_type": "markdown",
   "metadata": {},
   "source": [
    "設定應用程式密碼\n"
   ]
  },
  {
   "cell_type": "code",
   "execution_count": 2,
   "metadata": {},
   "outputs": [
    {
     "name": "stdout",
     "output_type": "stream",
     "text": [
      "msycomtw@gmail.com\n",
      "tgsx lmei buuh hrfs\n"
     ]
    }
   ],
   "source": [
    "config = configparser.ConfigParser()\n",
    "config.read(\"mail.cfg\")\n",
    "ADMIN = config[\"gmail\"][\"admin\"]\n",
    "GMAIL_PWD = config[\"gmail\"][\"password\"]\n",
    "print(ADMIN)\n",
    "print(GMAIL_PWD)"
   ]
  },
  {
   "cell_type": "markdown",
   "metadata": {},
   "source": [
    "設定模板路徑"
   ]
  },
  {
   "cell_type": "code",
   "execution_count": 3,
   "metadata": {},
   "outputs": [],
   "source": [
    "template_path = Path(\"templates/success_template.html\")\n",
    "template = Template(template_path.read_text())"
   ]
  },
  {
   "cell_type": "markdown",
   "metadata": {},
   "source": [
    "設定要替代的文字"
   ]
  },
  {
   "cell_type": "code",
   "execution_count": 4,
   "metadata": {},
   "outputs": [
    {
     "name": "stdout",
     "output_type": "stream",
     "text": [
      "<!DOCTYPE html>\n",
      "<html lang=\"zh-Hant-TW\">\n",
      "  <head> </head>\n",
      "  <body>\n",
      "    <div dir=\"ltr\">\n",
      "      您好，您已<b>成功</b>報名「2024《精通 Python》學習計畫 第二期」。\n",
      "      <br /><br />\n",
      "\n",
      "      <b>【報名資料】</b><br />\n",
      "      姓名： 楊閔茹<br />\n",
      "      電話： 0938045250<br /><br />\n",
      "\n",
      "      報名身分： 優先報名（8000 元）<br />\n",
      "      報名場次： 實體讀書會（每週三 19:00～21:00）<br />\n",
      "      匯款後五碼： 62197<br />\n",
      "      是否需要贈書： 是<br /><br />\n",
      "\n",
      "      未來學習計畫開始前會通知您，再煩請留意電子信箱~<br />\n",
      "      感謝您的參與。<br /><br />\n",
      "\n",
      "      <b>Python 實體讀書會 / 交流會 (台北)</b>\n",
      "    </div>\n",
      "  </body>\n",
      "</html>\n",
      "\n"
     ]
    }
   ],
   "source": [
    "subtitute_dict = {\n",
    "    \"name\": \"楊閔茹\",\n",
    "    \"phone_number\": \"0938045250\", \n",
    "    \"applicant_type\":\"優先報名（8000 元）\", \n",
    "    \"lesson_type\": \"實體讀書會（每週三 19:00～21:00）\", \n",
    "    \"account_number\": \"62197\", \n",
    "    \"is_book\": \"是\"\n",
    "    }\n",
    "body = template.substitute(subtitute_dict)\n",
    "print(body)"
   ]
  },
  {
   "cell_type": "markdown",
   "metadata": {},
   "source": [
    "寄件、收件設定"
   ]
  },
  {
   "cell_type": "code",
   "execution_count": 6,
   "metadata": {},
   "outputs": [],
   "source": [
    "content = MIMEMultipart()  #建立MIMEMultipart物件\n",
    "content[\"subject\"] = \"2024《精通 Python》學習計畫 第二期 報名成功通知\"  #郵件標題\n",
    "content[\"from\"] = \"msycomtw@gmail.com\"  #寄件者\n",
    "content[\"to\"] = \"minju11246@gmail.com\" #收件者\n",
    "content.attach(MIMEText(body, \"html\"))  #郵件內容"
   ]
  },
  {
   "cell_type": "markdown",
   "metadata": {},
   "source": [
    "寄送郵件"
   ]
  },
  {
   "cell_type": "code",
   "execution_count": 7,
   "metadata": {},
   "outputs": [
    {
     "name": "stdout",
     "output_type": "stream",
     "text": [
      "Complete!\n"
     ]
    }
   ],
   "source": [
    "import smtplib\n",
    "with smtplib.SMTP(host=\"smtp.gmail.com\", port=\"587\") as smtp:  # 設定SMTP伺服器\n",
    "    try:\n",
    "        smtp.ehlo()  # 驗證SMTP伺服器\n",
    "        smtp.starttls()  # 建立加密傳輸\n",
    "        smtp.login(ADMIN, GMAIL_PWD)  # 登入寄件者gmail\n",
    "        smtp.send_message(content)  # 寄送郵件\n",
    "        print(\"Complete!\")\n",
    "    except Exception as e:\n",
    "        print(\"Error message: \", e)"
   ]
  }
 ],
 "metadata": {
  "kernelspec": {
   "display_name": "Python 3",
   "language": "python",
   "name": "python3"
  },
  "language_info": {
   "codemirror_mode": {
    "name": "ipython",
    "version": 3
   },
   "file_extension": ".py",
   "mimetype": "text/x-python",
   "name": "python",
   "nbconvert_exporter": "python",
   "pygments_lexer": "ipython3",
   "version": "3.10.5"
  }
 },
 "nbformat": 4,
 "nbformat_minor": 2
}
