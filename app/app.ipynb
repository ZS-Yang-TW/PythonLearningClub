{
 "cells": [
  {
   "cell_type": "markdown",
   "metadata": {},
   "source": [
    "模組匯入"
   ]
  },
  {
   "cell_type": "code",
   "execution_count": 1,
   "metadata": {},
   "outputs": [],
   "source": [
    "from email.mime.multipart import MIMEMultipart\n",
    "from email.mime.text import MIMEText\n",
    "from string import Template\n",
    "from pathlib import Path\n",
    "import configparser"
   ]
  },
  {
   "cell_type": "markdown",
   "metadata": {},
   "source": [
    "設定應用程式密碼\n"
   ]
  },
  {
   "cell_type": "code",
   "execution_count": 2,
   "metadata": {},
   "outputs": [
    {
     "name": "stdout",
     "output_type": "stream",
     "text": [
      "msycomtw@gmail.com\n",
      "tgsx lmei buuh hrfs\n"
     ]
    }
   ],
   "source": [
    "config = configparser.ConfigParser()\n",
    "config.read(\"mail.cfg\")\n",
    "ADMIN = config[\"gmail\"][\"admin\"]\n",
    "GMAIL_PWD = config[\"gmail\"][\"password\"]\n",
    "print(ADMIN)\n",
    "print(GMAIL_PWD)"
   ]
  },
  {
   "cell_type": "markdown",
   "metadata": {},
   "source": [
    "設定模板路徑"
   ]
  },
  {
   "cell_type": "code",
   "execution_count": null,
   "metadata": {},
   "outputs": [],
   "source": [
    "template_path = Path(\"templates/success_template.html\")\n",
    "template = Template(template_path.read_text())"
   ]
  },
  {
   "cell_type": "markdown",
   "metadata": {},
   "source": [
    "設定要替代的文字"
   ]
  },
  {
   "cell_type": "code",
   "execution_count": null,
   "metadata": {},
   "outputs": [],
   "source": [
    "subtitute_dict = {\n",
    "    \"name\": \"Kate 黃芊華\",\n",
    "    \"phone_number\": \"0986183600\", \n",
    "    \"applicant_type\":\"優惠報名\", \n",
    "    \"lesson_type\": \"實體讀書會（每週三 19:00～21:00）\", \n",
    "    \"account_number\": \"19768\", \n",
    "    \"is_book\": \"是\"\n",
    "    }\n",
    "body = template.substitute(subtitute_dict)\n",
    "print(body)"
   ]
  },
  {
   "cell_type": "markdown",
   "metadata": {},
   "source": [
    "寄件、收件設定"
   ]
  },
  {
   "cell_type": "code",
   "execution_count": null,
   "metadata": {},
   "outputs": [],
   "source": [
    "content = MIMEMultipart()  #建立MIMEMultipart物件\n",
    "content[\"subject\"] = \"2024《精通 Python》學習計畫 第二期 報名成功通知\"  #郵件標題\n",
    "content[\"from\"] = \"msycomtw@gmail.com\"  #寄件者\n",
    "content[\"to\"] = \"Kate.ch.hometown@gmail.com\" #收件者\n",
    "content.attach(MIMEText(body, \"html\"))  #郵件內容"
   ]
  },
  {
   "cell_type": "markdown",
   "metadata": {},
   "source": [
    "寄送郵件"
   ]
  },
  {
   "cell_type": "code",
   "execution_count": null,
   "metadata": {},
   "outputs": [],
   "source": [
    "import smtplib\n",
    "with smtplib.SMTP(host=\"smtp.gmail.com\", port=\"587\") as smtp:  # 設定SMTP伺服器\n",
    "    try:\n",
    "        smtp.ehlo()  # 驗證SMTP伺服器\n",
    "        smtp.starttls()  # 建立加密傳輸\n",
    "        smtp.login(ADMIN, GMAIL_PWD)  # 登入寄件者gmail\n",
    "        smtp.send_message(content)  # 寄送郵件\n",
    "        print(\"Complete!\")\n",
    "    except Exception as e:\n",
    "        print(\"Error message: \", e)"
   ]
  }
 ],
 "metadata": {
  "kernelspec": {
   "display_name": "Python 3",
   "language": "python",
   "name": "python3"
  },
  "language_info": {
   "codemirror_mode": {
    "name": "ipython",
    "version": 3
   },
   "file_extension": ".py",
   "mimetype": "text/x-python",
   "name": "python",
   "nbconvert_exporter": "python",
   "pygments_lexer": "ipython3",
   "version": "3.10.5"
  }
 },
 "nbformat": 4,
 "nbformat_minor": 2
}
