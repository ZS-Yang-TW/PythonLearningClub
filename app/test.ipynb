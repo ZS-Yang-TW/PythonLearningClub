{
 "cells": [
  {
   "cell_type": "code",
   "execution_count": 2,
   "metadata": {},
   "outputs": [
    {
     "name": "stdout",
     "output_type": "stream",
     "text": [
      "姓名： 李逸帆\n",
      "場次： 線上場次\n",
      "電話： 952152828\n",
      "電子郵件： leeivan1007@gmail.com\n",
      "匯款後五碼： 54267\n",
      "\n",
      "姓名： 蕭浩綸\n",
      "場次： 線上場次\n",
      "電話： 92837510\n",
      "電子郵件： linesiu1013@gmail.com\n",
      "匯款後五碼： 00000\n",
      "\n"
     ]
    }
   ],
   "source": [
    "import pandas as pd\n",
    "data_frame = pd.read_excel(\"../data/2024/報名成員資料.xlsx\",\n",
    "                           sheet_name='報名資料', \n",
    "                           usecols =[\"姓名\", \"場次\", \"電話\", \"電子郵件\", \"匯款後五碼\"])\n",
    "# 取得各欄位的資料\n",
    "name = data_frame[\"姓名\"]\n",
    "lesson_type = data_frame[\"場次\"]\n",
    "phone_number = data_frame[\"電話\"]\n",
    "email = data_frame[\"電子郵件\"]\n",
    "account_number = data_frame[\"匯款後五碼\"]\n",
    "\n",
    "for i in range(len(name)):\n",
    "    if lesson_type[i] == \"線上場次\":\n",
    "        print(\"姓名：\", name[i])\n",
    "        print(\"場次：\", lesson_type[i])\n",
    "        print(\"電話：\", phone_number[i])\n",
    "        print(\"電子郵件：\", email[i])\n",
    "        print(\"匯款後五碼：\", account_number[i])\n",
    "        print(\"\")"
   ]
  }
 ],
 "metadata": {
  "kernelspec": {
   "display_name": "Python 3",
   "language": "python",
   "name": "python3"
  },
  "language_info": {
   "codemirror_mode": {
    "name": "ipython",
    "version": 3
   },
   "file_extension": ".py",
   "mimetype": "text/x-python",
   "name": "python",
   "nbconvert_exporter": "python",
   "pygments_lexer": "ipython3",
   "version": "3.10.5"
  }
 },
 "nbformat": 4,
 "nbformat_minor": 2
}
