{
 "cells": [
  {
   "cell_type": "code",
   "execution_count": 3,
   "metadata": {},
   "outputs": [
    {
     "name": "stdout",
     "output_type": "stream",
     "text": [
      "姓名： 林惠雯\n",
      "場次： 實體場次\n",
      "電話： 900038838\n",
      "電子郵件： claire961167@gmail.com\n",
      "匯款後五碼： 40679\n",
      "\n",
      "姓名： 林融\n",
      "場次： 實體場次\n",
      "電話： 933867073\n",
      "電子郵件： dreamhopeandfaith@gmail.com\n",
      "匯款後五碼： 75823\n",
      "\n",
      "姓名： Sean Chen\n",
      "場次： 實體場次\n",
      "電話： 988925665\n",
      "電子郵件： cool6017zx@icloud.com\n",
      "匯款後五碼： 08204\n",
      "\n",
      "姓名： 陳建廷\n",
      "場次： 實體場次\n",
      "電話： 918663898\n",
      "電子郵件： a05080037@gmail.com\n",
      "匯款後五碼： 19541\n",
      "\n",
      "姓名： 邱大叡\n",
      "場次： 實體場次\n",
      "電話： 983197302\n",
      "電子郵件： sodagreenapay@gmail.com\n",
      "匯款後五碼： 95861\n",
      "\n",
      "姓名： 程凱\n",
      "場次： 實體場次\n",
      "電話： 975673150\n",
      "電子郵件： Chengkai0507@gmail.com\n",
      "匯款後五碼： 6575*\n",
      "\n",
      "姓名： 朱慧娟\n",
      "場次： 實體場次\n",
      "電話： 933908811\n",
      "電子郵件： jo.oceansidechu@gmail.com\n",
      "匯款後五碼： 95203\n",
      "\n",
      "姓名： Kate 黃芊華\n",
      "場次： 實體場次\n",
      "電話： 986183600\n",
      "電子郵件： Kate.ch.hometown@gmail.com\n",
      "匯款後五碼： 19768\n",
      "\n",
      "姓名： 李逸帆\n",
      "場次： 線上場次\n",
      "電話： 952152828\n",
      "電子郵件： leeivan1007@gmail.com\n",
      "匯款後五碼： 54267\n",
      "\n",
      "姓名： 蕭浩綸\n",
      "場次： 線上場次\n",
      "電話： 92837510\n",
      "電子郵件： linesiu1013@gmail.com\n",
      "匯款後五碼： 00000\n",
      "\n"
     ]
    }
   ],
   "source": [
    "import pandas as pd\n",
    "data_frame = pd.read_excel(\"../data/2024/報名成員資料.xlsx\",\n",
    "                           sheet_name='報名資料', \n",
    "                           usecols =[\"姓名\", \"場次\", \"電話\", \"電子郵件\", \"匯款後五碼\"])\n",
    "# 取得各欄位的資料\n",
    "name = data_frame[\"姓名\"]\n",
    "lesson_type = data_frame[\"場次\"]\n",
    "phone_number = data_frame[\"電話\"]\n",
    "email = data_frame[\"電子郵件\"]\n",
    "account_number = data_frame[\"匯款後五碼\"]\n",
    "\n",
    "for i in range(len(name)):\n",
    "    print(\"姓名：\", name[i])\n",
    "    print(\"場次：\", lesson_type[i])\n",
    "    print(\"電話：\", phone_number[i])\n",
    "    print(\"電子郵件：\", email[i])\n",
    "    print(\"匯款後五碼：\", account_number[i])\n",
    "    print(\"\")"
   ]
  }
 ],
 "metadata": {
  "kernelspec": {
   "display_name": "Python 3",
   "language": "python",
   "name": "python3"
  },
  "language_info": {
   "codemirror_mode": {
    "name": "ipython",
    "version": 3
   },
   "file_extension": ".py",
   "mimetype": "text/x-python",
   "name": "python",
   "nbconvert_exporter": "python",
   "pygments_lexer": "ipython3",
   "version": "3.10.5"
  }
 },
 "nbformat": 4,
 "nbformat_minor": 2
}
