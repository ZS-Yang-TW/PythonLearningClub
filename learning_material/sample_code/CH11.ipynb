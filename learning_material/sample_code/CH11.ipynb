{
 "cells": [
  {
   "cell_type": "code",
   "execution_count": null,
   "metadata": {},
   "outputs": [],
   "source": [
    "# setdefault()：如果呼叫鍵值時有缺漏，直接新增。但如果鍵值已存在，就不會改變原本的值。\n",
    "periodic_table = {'Hydrogen': 1, 'Helium': 2}\n",
    "carbon = periodic_table.setdefault('Carbon', 12)\n",
    "print(periodic_table)\n",
    "print(carbon)\n",
    "carbon = periodic_table.setdefault('Carbon', 999)\n",
    "print(periodic_table)\n",
    "print(carbon)\n"
   ]
  },
  {
   "cell_type": "code",
   "execution_count": null,
   "metadata": {},
   "outputs": [],
   "source": [
    "# defaultdict()：可以當作一種字典。如果呼叫鍵值時有缺漏，這個字典會直接新增我們指定的預設鍵值。\n",
    "from collections import defaultdict\n",
    "periodic_table = defaultdict(int)\n",
    "print(periodic_table)\n",
    "\n",
    "periodic_table['Hydrogen'] = 1\n",
    "print(periodic_table['Hydrogen'])\n",
    "print(periodic_table['carbon'])"
   ]
  },
  {
   "cell_type": "code",
   "execution_count": null,
   "metadata": {},
   "outputs": [],
   "source": [
    "from collections import defaultdict\n",
    "my_table = defaultdict(lambda: 'Empty')\n",
    "print(my_table['color'])\n",
    "print(my_table)"
   ]
  },
  {
   "cell_type": "code",
   "execution_count": null,
   "metadata": {},
   "outputs": [],
   "source": [
    "from collections import defaultdict\n",
    "my_table = defaultdict(list)\n",
    "print(my_table['color'])\n",
    "print(my_table)"
   ]
  },
  {
   "cell_type": "code",
   "execution_count": null,
   "metadata": {},
   "outputs": [],
   "source": [
    "from collections import defaultdict\n",
    "my_table = defaultdict(lambda: None)\n",
    "print(my_table['color'])\n",
    "print(my_table)"
   ]
  },
  {
   "cell_type": "code",
   "execution_count": null,
   "metadata": {},
   "outputs": [],
   "source": [
    "from collections import defaultdict\n",
    "food_counter = defaultdict(int)\n",
    "for food in ['spam', 'spam', 'eggs', 'spam']:\n",
    "    food_counter[food] += 1\n",
    "\n",
    "for food, count in food_counter.items():\n",
    "    print(food, count)\n"
   ]
  },
  {
   "cell_type": "code",
   "execution_count": null,
   "metadata": {},
   "outputs": [],
   "source": [
    "# 如果不使用defaultdict，每當我們遇到一個新的鍵時，我們都必須檢查它是否存在，並使用它來更新計數器。\n",
    "food_counter = {}\n",
    "for food in ['spam', 'spam', 'eggs', 'spam']:\n",
    "    if not food in food_counter:\n",
    "        food_counter[food] = 0\n",
    "    food_counter[food] += 1\n",
    "\n",
    "for food, count in food_counter.items():\n",
    "    print(food, count)"
   ]
  },
  {
   "cell_type": "code",
   "execution_count": null,
   "metadata": {},
   "outputs": [],
   "source": [
    "from collections import Counter\n",
    "breakfast = [\"蛋餅\", \"蛋餅\", \"奶茶\", \"蛋餅\", \"漢堡\", \"奶茶\"]\n",
    "lunch = [\"漢堡\", \"漢堡\", \"蛋餅\", \"蛋餅\"]\n",
    "\n",
    "breakfast_counter = Counter(breakfast)\n",
    "print(breakfast_counter)\n",
    "print(breakfast_counter[\"蛋餅\"])\n",
    "\n",
    "lunch_counter = Counter(lunch)\n",
    "print(lunch_counter)\n",
    "\n",
    "today_counter = breakfast_counter + lunch_counter\n",
    "print(today_counter)\n"
   ]
  },
  {
   "cell_type": "code",
   "execution_count": null,
   "metadata": {},
   "outputs": [],
   "source": [
    "my_list = [1,2,3,4,5,6,7,8,9,10]\n",
    "my_list.append(11)\n",
    "print(my_list)\n",
    "my_list.insert(0, 0)\n",
    "print(my_list)"
   ]
  },
  {
   "cell_type": "code",
   "execution_count": null,
   "metadata": {},
   "outputs": [],
   "source": [
    "from collections import deque\n",
    "dq = deque(range(10))\n",
    "print(dq)\n",
    "\n",
    "# 從最左邊新增一個元素\n",
    "dq.appendleft(-1)\n",
    "print(dq)\n",
    "\n",
    "# 從最右邊新增一個元素\n",
    "dq.append(10)\n",
    "print(dq)\n",
    "\n",
    "# 從最左邊取出一個元素\n",
    "get = dq.popleft()\n",
    "print(get)\n",
    "print(dq)\n",
    "\n",
    "# 從最右邊取出一個元素\n",
    "get = dq.pop()\n",
    "print(get)\n",
    "print(dq)\n",
    "\n",
    "# 設定最大長度\n",
    "dq = deque(range(10), maxlen=10)\n",
    "dq.append(10)\n",
    "print(dq)"
   ]
  },
  {
   "cell_type": "code",
   "execution_count": null,
   "metadata": {},
   "outputs": [],
   "source": [
    "import itertools\n",
    "\n",
    "# 鏈鎖迭代\n",
    "for item in itertools.chain(\"123\", ['a', 'b'], (2, 3)):\n",
    "    print(item)"
   ]
  },
  {
   "cell_type": "code",
   "execution_count": null,
   "metadata": {},
   "outputs": [],
   "source": [
    "import itertools \n",
    "\n",
    "# 累計迭代\n",
    "for item in itertools.accumulate([1, 2, 3, 4]):\n",
    "    print(item)"
   ]
  },
  {
   "cell_type": "code",
   "execution_count": null,
   "metadata": {},
   "outputs": [],
   "source": [
    "import itertools \n",
    "# 循環迭代\n",
    "for item in itertools.cycle([1, 2]):\n",
    "    print(item)\n",
    "    \n",
    "# 重複迭代\n",
    "for item in itertools.repeat([1, 2], 5):\n",
    "    print(item)"
   ]
  },
  {
   "cell_type": "code",
   "execution_count": 25,
   "metadata": {},
   "outputs": [
    {
     "name": "stdout",
     "output_type": "stream",
     "text": [
      "(1, 2)\n",
      "(1, 3)\n",
      "(2, 1)\n",
      "(2, 3)\n",
      "(3, 1)\n",
      "(3, 2)\n"
     ]
    }
   ],
   "source": [
    "import itertools \n",
    "\n",
    "# 排列迭代\n",
    "# for item in itertools.permutations([1, 2, 3], 2):\n",
    "#     print(item)\n",
    "    \n",
    "# 組合迭代\n",
    "# for item in itertools.combinations([1, 2, 3, 4, 5], 2):\n",
    "#     print(item)\n",
    "    "
   ]
  },
  {
   "cell_type": "code",
   "execution_count": 26,
   "metadata": {},
   "outputs": [
    {
     "name": "stdout",
     "output_type": "stream",
     "text": [
      "1\n",
      "3\n",
      "5\n",
      "(1, 2)\n",
      "(2, 3)\n",
      "(3, 4)\n",
      "(4, 5)\n"
     ]
    }
   ],
   "source": [
    "import itertools \n",
    "\n",
    "# 選擇迭代\n",
    "for item in itertools.compress([1, 2, 3, 4, 5], [True, False, True, False, True]):\n",
    "    print(item)\n",
    "\n",
    "# 配對迭代\n",
    "for item in itertools.pairwise([1, 2, 3, 4, 5]):\n",
    "    print(item)\n",
    "    "
   ]
  },
  {
   "cell_type": "code",
   "execution_count": 27,
   "metadata": {},
   "outputs": [
    {
     "name": "stdout",
     "output_type": "stream",
     "text": [
      "1\n"
     ]
    }
   ],
   "source": [
    "from random import choice\n",
    "# 隨機選取一個元素\n",
    "lottery_numbers = [1, 2, 3, 4, 5, 6, 7, 8, 9]\n",
    "print(choice(lottery_numbers))"
   ]
  },
  {
   "cell_type": "code",
   "execution_count": 46,
   "metadata": {},
   "outputs": [
    {
     "name": "stdout",
     "output_type": "stream",
     "text": [
      "[9, 6, 8]\n"
     ]
    }
   ],
   "source": [
    "from random import sample\n",
    "# 隨機選取多個元素\n",
    "id = [1, 2, 3, 4, 5, 6, 7, 8, 9]\n",
    "print(sample(id, 3))\n"
   ]
  },
  {
   "cell_type": "code",
   "execution_count": 47,
   "metadata": {},
   "outputs": [
    {
     "name": "stdout",
     "output_type": "stream",
     "text": [
      "5\n",
      "6\n",
      "0.14220765948002279\n",
      "13.77029378974417\n",
      "-20.037429431794784\n",
      "10.63\n"
     ]
    }
   ],
   "source": [
    "from random import randint\n",
    "# 取隨機整數\n",
    "print(randint(1, 10)) # 1 <= N <= 10\n",
    "\n",
    "from random import randrange\n",
    "# 區間中，取隨機整數\n",
    "print(randrange(0, 10, 2)) # 0 <= N < 10，間隔為2\n",
    "\n",
    "from random import random\n",
    "# 取隨機浮點數\n",
    "print(random()) # 0 <= N < 1\n",
    "print(random() * 100) # 0 <= N < 100\n",
    "print(random() * 100 - 50) # -50 <= N < 50\n",
    "\n",
    "# 控制位數\n",
    "print(\"{:.2f}\".format(random() * 100 - 50)) # -50 <= N < 50"
   ]
  },
  {
   "cell_type": "code",
   "execution_count": 2,
   "metadata": {},
   "outputs": [
    {
     "name": "stdout",
     "output_type": "stream",
     "text": [
      "[1, 3, 5, 7, 9, 11, 13, 15, 17, 19, 21, 23, 25, 27, 29, 31, 33, 35, 37, 39, 41, 43, 45, 47, 49, 51, 53, 55, 57, 59, 61, 63, 65, 67, 69, 71, 73, 75, 77, 79, 81, 83, 85, 87, 89, 91, 93, 95, 97, 99, 101, 103, 105, 107, 109, 111, 113, 115, 117, 119, 121, 123, 125, 127, 129, 131, 133, 135, 137, 139, 141, 143, 145, 147, 149, 151, 153, 155, 157, 159, 161, 163, 165, 167, 169, 171, 173, 175, 177, 179, 181, 183, 185, 187, 189, 191, 193, 195, 197, 199]\n"
     ]
    }
   ],
   "source": [
    "odd = [2*i+1 for i in range(0,100)]\n",
    "print(odd)"
   ]
  },
  {
   "cell_type": "code",
   "execution_count": 56,
   "metadata": {},
   "outputs": [
    {
     "name": "stdout",
     "output_type": "stream",
     "text": [
      "value=A, name=LATIN CAPITAL LETTER A, value2=A\n",
      "value=A, name=LATIN CAPITAL LETTER A, value2=A\n",
      "value=¢, name=CENT SIGN, value2=¢\n",
      "value=¢, name=CENT SIGN, value2=¢\n",
      "value=我, name=CJK UNIFIED IDEOGRAPH-6211, value2=我\n",
      "value=我, name=CJK UNIFIED IDEOGRAPH-6211, value2=我\n",
      "value=😀, name=GRINNING FACE, value2=😀\n",
      "value=😀, name=GRINNING FACE, value2=😀\n",
      "value=a, name=LATIN SMALL LETTER A, value2=a\n",
      "value=💸, name=MONEY WITH WINGS, value2=💸\n",
      "value=🐈, name=CAT, value2=🐈\n",
      "value=🐕, name=DOG, value2=🐕\n",
      "我好棒\n",
      "3\n"
     ]
    },
    {
     "data": {
      "text/plain": [
       "128512"
      ]
     },
     "execution_count": 56,
     "metadata": {},
     "output_type": "execute_result"
    }
   ],
   "source": [
    "import unicodedata\n",
    "\n",
    "def unicode_test(value):\n",
    "    name = unicodedata.name(value)\n",
    "    value2 = unicodedata.lookup(name)\n",
    "    print(f\"value={value}, name={name}, value2={value2}\")\n",
    "\n",
    "# 你可以用 unicode 來表示，也可以直接把他的符號貼上來。\n",
    "unicode_test(\"A\")\n",
    "unicode_test(\"\\u0041\")\n",
    "unicode_test(\"¢\")\n",
    "unicode_test(\"\\u00a2\")\n",
    "unicode_test(\"我\")\n",
    "unicode_test(\"\\u6211\")\n",
    "\n",
    "# 如果要用到第一輔助平面以後的 unicode，就要用大寫的 U 來表示。\n",
    "unicode_test(\"\\U0001f600\")\n",
    "unicode_test(\"😀\")\n",
    "\n",
    "# /N{name}：可以用名稱來表示 unicode。\n",
    "unicode_test(\"\\N{LATIN SMALL LETTER A}\")\n",
    "unicode_test(\"\\N{Money with Wings}\")\n",
    "unicode_test(\"\\N{Cat}\")\n",
    "unicode_test(\"\\N{Dog}\")\n",
    "\n",
    "# 可以直接用 unicode 來表示字串。\n",
    "words = \"\\u6211\\u597d\\u68d2\"\n",
    "print(words)\n",
    "\n",
    "# len()數的有多少個unicode字源，而不是 byte 數。\n",
    "print(len(words))\n",
    "\n",
    "# 可以用 chr() 來取得 unicode 的字元。\n",
    "chr(0x1f600)\n",
    "\n",
    "# 可以用 ord() 來取得 unicode 的編碼。\n",
    "ord(\"😀\")"
   ]
  },
  {
   "cell_type": "code",
   "execution_count": 1,
   "metadata": {},
   "outputs": [
    {
     "name": "stdout",
     "output_type": "stream",
     "text": [
      "1 2 3\n"
     ]
    }
   ],
   "source": [
    "test = [1,2,3]\n",
    "print(*test)"
   ]
  }
 ],
 "metadata": {
  "kernelspec": {
   "display_name": "Python 3 (ipykernel)",
   "language": "python",
   "name": "python3"
  },
  "language_info": {
   "codemirror_mode": {
    "name": "ipython",
    "version": 3
   },
   "file_extension": ".py",
   "mimetype": "text/x-python",
   "name": "python",
   "nbconvert_exporter": "python",
   "pygments_lexer": "ipython3",
   "version": "3.10.5"
  }
 },
 "nbformat": 4,
 "nbformat_minor": 2
}
