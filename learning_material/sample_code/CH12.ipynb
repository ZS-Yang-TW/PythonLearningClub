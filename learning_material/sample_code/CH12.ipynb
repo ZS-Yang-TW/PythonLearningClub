{
 "cells": [
  {
   "cell_type": "code",
   "execution_count": 23,
   "metadata": {},
   "outputs": [],
   "source": [
    "import unicodedata\n",
    "\n",
    "def unicode_test(value):\n",
    "    # 用 unicodedata.name() 來取得 unicode 的名稱。\n",
    "    name = unicodedata.name(value)\n",
    "    \n",
    "    # 用 unicodedata.lookup() 根據名稱來取得 unicode 的值。\n",
    "    value2 = unicodedata.lookup(name)\n",
    "    print(f\"value={value}, name={name}, value2={value2}\")"
   ]
  },
  {
   "cell_type": "code",
   "execution_count": 2,
   "metadata": {},
   "outputs": [
    {
     "name": "stdout",
     "output_type": "stream",
     "text": [
      "value=A, name=LATIN CAPITAL LETTER A, value2=A\n",
      "value=A, name=LATIN CAPITAL LETTER A, value2=A\n",
      "value=¢, name=CENT SIGN, value2=¢\n",
      "value=¢, name=CENT SIGN, value2=¢\n",
      "value=我, name=CJK UNIFIED IDEOGRAPH-6211, value2=我\n",
      "value=我, name=CJK UNIFIED IDEOGRAPH-6211, value2=我\n"
     ]
    }
   ],
   "source": [
    "# 你可以用 unicode 來表示，也可以直接把他的符號貼上來。\n",
    "unicode_test(\"A\")\n",
    "unicode_test(\"\\u0041\")\n",
    "unicode_test(\"¢\")\n",
    "unicode_test(\"\\u00a2\")\n",
    "unicode_test(\"我\")\n",
    "unicode_test(\"\\u6211\")"
   ]
  },
  {
   "cell_type": "code",
   "execution_count": 3,
   "metadata": {},
   "outputs": [
    {
     "name": "stdout",
     "output_type": "stream",
     "text": [
      "value=😀, name=GRINNING FACE, value2=😀\n",
      "value=😀, name=GRINNING FACE, value2=😀\n"
     ]
    }
   ],
   "source": [
    "# 如果要用到第一輔助平面以後的 unicode，就要用大寫的 U 來表示。\n",
    "unicode_test(\"\\U0001f600\")\n",
    "unicode_test(\"😀\")"
   ]
  },
  {
   "cell_type": "code",
   "execution_count": 4,
   "metadata": {},
   "outputs": [
    {
     "name": "stdout",
     "output_type": "stream",
     "text": [
      "我好棒\n"
     ]
    }
   ],
   "source": [
    "# 可以直接用 unicode 來表示字串。\n",
    "words = \"\\u6211\\u597d\\u68d2\"\n",
    "print(words)"
   ]
  },
  {
   "cell_type": "code",
   "execution_count": 8,
   "metadata": {},
   "outputs": [
    {
     "name": "stdout",
     "output_type": "stream",
     "text": [
      "3\n"
     ]
    }
   ],
   "source": [
    "# len()數的有多少個unicode字元，而不是 byte 數。\n",
    "print(len(words))"
   ]
  },
  {
   "cell_type": "code",
   "execution_count": 13,
   "metadata": {},
   "outputs": [
    {
     "name": "stdout",
     "output_type": "stream",
     "text": [
      "😀\n",
      "128512\n"
     ]
    }
   ],
   "source": [
    "# 可以用 chr() 來取得 unicode 的字元。\n",
    "print(chr(0x1f600))\n",
    "\n",
    "# 可以用 ord() 來取得 unicode 的編碼。\n",
    "print(ord(\"😀\"))"
   ]
  },
  {
   "cell_type": "code",
   "execution_count": 22,
   "metadata": {},
   "outputs": [
    {
     "name": "stdout",
     "output_type": "stream",
     "text": [
      "LATIN SMALL LETTER E WITH ACUTE\n",
      "é\n"
     ]
    }
   ],
   "source": [
    "# 用 unicodedata.name() 來取得 unicode 的名稱。\n",
    "word_name = unicodedata.name(\"\\u00e9\")\n",
    "print(word_name)\n",
    "\n",
    "# 用 unicodedata.lookup() 來取得 unicode 的字元。\n",
    "word = unicodedata.lookup(\"LATIN SMALL LETTER E WITH ACUTE\")\n",
    "print(word)"
   ]
  },
  {
   "cell_type": "code",
   "execution_count": 64,
   "metadata": {},
   "outputs": [
    {
     "name": "stdout",
     "output_type": "stream",
     "text": [
      "h\n",
      "b'h'\n",
      "1\n",
      "☃\n",
      "b'\\xe2\\x98\\x83'\n",
      "3\n",
      "😀\n",
      "b'\\xf0\\x9f\\x98\\x80'\n",
      "4\n"
     ]
    }
   ],
   "source": [
    "# UTF-8 : 用 1~4 個 byte 來表示 unicode。原因: 讓愈常用的 unicode 用愈少的 byte 來表示，節省空間。\n",
    "\n",
    "# 用 encode() 來編碼。\n",
    "# h\n",
    "word = \"\\u0068\"\n",
    "print(word)\n",
    "\n",
    "encoded_word = word.encode(\"utf-8\")\n",
    "print(encoded_word)\n",
    "print(len(encoded_word))\n",
    "\n",
    "# ☃\n",
    "snowman = \"\\u2603\"\n",
    "print(snowman)\n",
    "\n",
    "encoded_snowman = snowman.encode(\"utf-8\")\n",
    "print(encoded_snowman)\n",
    "print(len(encoded_snowman))\n",
    "\n",
    "# 😀\n",
    "emoji = \"😀\"\n",
    "print(emoji)\n",
    "\n",
    "encoded_emoji = emoji.encode(\"utf-8\")\n",
    "print(encoded_emoji)\n",
    "print(len(encoded_emoji))"
   ]
  },
  {
   "cell_type": "code",
   "execution_count": 51,
   "metadata": {},
   "outputs": [
    {
     "ename": "UnicodeEncodeError",
     "evalue": "'ascii' codec can't encode character '\\u2603' in position 0: ordinal not in range(128)",
     "output_type": "error",
     "traceback": [
      "\u001b[1;31m---------------------------------------------------------------------------\u001b[0m",
      "\u001b[1;31mUnicodeEncodeError\u001b[0m                        Traceback (most recent call last)",
      "\u001b[1;32mc:\\Users\\msyco\\桌面\\PythonClub\\精通Python學習計畫\\learning_material\\sample_code\\CH12.ipynb 儲存格 9\u001b[0m line \u001b[0;36m3\n\u001b[0;32m      <a href='vscode-notebook-cell:/c%3A/Users/msyco/%E6%A1%8C%E9%9D%A2/PythonClub/%E7%B2%BE%E9%80%9APython%E5%AD%B8%E7%BF%92%E8%A8%88%E7%95%AB/learning_material/sample_code/CH12.ipynb#X13sZmlsZQ%3D%3D?line=0'>1</a>\u001b[0m \u001b[39m# ☃ 沒有辦法用 ascii 來表示，所以會出錯。\u001b[39;00m\n\u001b[0;32m      <a href='vscode-notebook-cell:/c%3A/Users/msyco/%E6%A1%8C%E9%9D%A2/PythonClub/%E7%B2%BE%E9%80%9APython%E5%AD%B8%E7%BF%92%E8%A8%88%E7%95%AB/learning_material/sample_code/CH12.ipynb#X13sZmlsZQ%3D%3D?line=1'>2</a>\u001b[0m word \u001b[39m=\u001b[39m \u001b[39m\"\u001b[39m\u001b[39m☃\u001b[39m\u001b[39m\"\u001b[39m\n\u001b[1;32m----> <a href='vscode-notebook-cell:/c%3A/Users/msyco/%E6%A1%8C%E9%9D%A2/PythonClub/%E7%B2%BE%E9%80%9APython%E5%AD%B8%E7%BF%92%E8%A8%88%E7%95%AB/learning_material/sample_code/CH12.ipynb#X13sZmlsZQ%3D%3D?line=2'>3</a>\u001b[0m encoded_word \u001b[39m=\u001b[39m word\u001b[39m.\u001b[39mencode(\u001b[39m\"\u001b[39m\u001b[39mascii\u001b[39m\u001b[39m\"\u001b[39m)\n\u001b[0;32m      <a href='vscode-notebook-cell:/c%3A/Users/msyco/%E6%A1%8C%E9%9D%A2/PythonClub/%E7%B2%BE%E9%80%9APython%E5%AD%B8%E7%BF%92%E8%A8%88%E7%95%AB/learning_material/sample_code/CH12.ipynb#X13sZmlsZQ%3D%3D?line=3'>4</a>\u001b[0m \u001b[39mprint\u001b[39m(encoded_word)\n",
      "\u001b[1;31mUnicodeEncodeError\u001b[0m: 'ascii' codec can't encode character '\\u2603' in position 0: ordinal not in range(128)"
     ]
    }
   ],
   "source": [
    "# ☃ 沒有辦法用 ascii 來表示，所以會出錯。\n",
    "word = \"☃\"\n",
    "encoded_word = word.encode(\"ascii\")\n",
    "print(encoded_word)"
   ]
  },
  {
   "cell_type": "code",
   "execution_count": 55,
   "metadata": {},
   "outputs": [
    {
     "name": "stdout",
     "output_type": "stream",
     "text": [
      "b''\n"
     ]
    }
   ],
   "source": [
    "# 用 errors=\"ignore\" 來把無法用 ascii 來表示的字元忽略。\n",
    "word = \"☃\"\n",
    "encoded_word = word.encode(\"ascii\", errors=\"ignore\")\n",
    "print(encoded_word)"
   ]
  },
  {
   "cell_type": "code",
   "execution_count": 56,
   "metadata": {},
   "outputs": [
    {
     "name": "stdout",
     "output_type": "stream",
     "text": [
      "b'?'\n"
     ]
    }
   ],
   "source": [
    "# 用 errors=\"replace\" 來把無法用 ascii 來表示的字元用 ? 來表示。\n",
    "word = \"☃\"\n",
    "encoded_word = word.encode(\"ascii\", errors=\"replace\")\n",
    "print(encoded_word)"
   ]
  },
  {
   "cell_type": "code",
   "execution_count": 60,
   "metadata": {},
   "outputs": [
    {
     "name": "stdout",
     "output_type": "stream",
     "text": [
      "b'\\\\u2603'\n"
     ]
    }
   ],
   "source": [
    "# 用 errors=\"backslashreplace\" 來把無法用 ascii 來表示的字元用 \\uXXXX 來表示。\n",
    "word = \"☃\"\n",
    "encoded_word = word.encode(\"ascii\", errors=\"backslashreplace\")\n",
    "print(encoded_word)"
   ]
  },
  {
   "cell_type": "code",
   "execution_count": 61,
   "metadata": {},
   "outputs": [
    {
     "name": "stdout",
     "output_type": "stream",
     "text": [
      "b'&#9731;'\n"
     ]
    }
   ],
   "source": [
    "# 用 errors=\"xmlcharrefreplace\" 將無法用 ascii 來表示的字元用 &#XXXX; 來表示。\n",
    "word = \"☃\"\n",
    "encoded_word = word.encode(\"ascii\", errors=\"xmlcharrefreplace\")\n",
    "print(encoded_word)"
   ]
  },
  {
   "cell_type": "code",
   "execution_count": 80,
   "metadata": {},
   "outputs": [
    {
     "name": "stdout",
     "output_type": "stream",
     "text": [
      "café\n",
      "b'caf\\xc3\\xa9'\n",
      "café\n"
     ]
    }
   ],
   "source": [
    "# 用 decode() 來解碼。\n",
    "# café (以 utf-8 編碼、解碼)\n",
    "word = \"caf\\u00e9\"\n",
    "print(word)\n",
    "\n",
    "encoded_word = word.encode(\"utf-8\")\n",
    "print(encoded_word)\n",
    "\n",
    "decoded_word = encoded_word.decode(\"utf-8\")\n",
    "print(decoded_word)"
   ]
  },
  {
   "cell_type": "code",
   "execution_count": 81,
   "metadata": {},
   "outputs": [
    {
     "name": "stdout",
     "output_type": "stream",
     "text": [
      "café\n",
      "b'caf\\xc3\\xa9'\n"
     ]
    },
    {
     "ename": "UnicodeDecodeError",
     "evalue": "'ascii' codec can't decode byte 0xc3 in position 3: ordinal not in range(128)",
     "output_type": "error",
     "traceback": [
      "\u001b[1;31m---------------------------------------------------------------------------\u001b[0m",
      "\u001b[1;31mUnicodeDecodeError\u001b[0m                        Traceback (most recent call last)",
      "\u001b[1;32mc:\\Users\\msyco\\桌面\\PythonClub\\精通Python學習計畫\\learning_material\\sample_code\\CH12.ipynb 儲存格 15\u001b[0m line \u001b[0;36m8\n\u001b[0;32m      <a href='vscode-notebook-cell:/c%3A/Users/msyco/%E6%A1%8C%E9%9D%A2/PythonClub/%E7%B2%BE%E9%80%9APython%E5%AD%B8%E7%BF%92%E8%A8%88%E7%95%AB/learning_material/sample_code/CH12.ipynb#X22sZmlsZQ%3D%3D?line=4'>5</a>\u001b[0m encoded_word \u001b[39m=\u001b[39m word\u001b[39m.\u001b[39mencode(\u001b[39m\"\u001b[39m\u001b[39mutf-8\u001b[39m\u001b[39m\"\u001b[39m)\n\u001b[0;32m      <a href='vscode-notebook-cell:/c%3A/Users/msyco/%E6%A1%8C%E9%9D%A2/PythonClub/%E7%B2%BE%E9%80%9APython%E5%AD%B8%E7%BF%92%E8%A8%88%E7%95%AB/learning_material/sample_code/CH12.ipynb#X22sZmlsZQ%3D%3D?line=5'>6</a>\u001b[0m \u001b[39mprint\u001b[39m(encoded_word)\n\u001b[1;32m----> <a href='vscode-notebook-cell:/c%3A/Users/msyco/%E6%A1%8C%E9%9D%A2/PythonClub/%E7%B2%BE%E9%80%9APython%E5%AD%B8%E7%BF%92%E8%A8%88%E7%95%AB/learning_material/sample_code/CH12.ipynb#X22sZmlsZQ%3D%3D?line=7'>8</a>\u001b[0m decoded_word \u001b[39m=\u001b[39m encoded_word\u001b[39m.\u001b[39mdecode(\u001b[39m\"\u001b[39m\u001b[39mascii\u001b[39m\u001b[39m\"\u001b[39m)\n\u001b[0;32m      <a href='vscode-notebook-cell:/c%3A/Users/msyco/%E6%A1%8C%E9%9D%A2/PythonClub/%E7%B2%BE%E9%80%9APython%E5%AD%B8%E7%BF%92%E8%A8%88%E7%95%AB/learning_material/sample_code/CH12.ipynb#X22sZmlsZQ%3D%3D?line=8'>9</a>\u001b[0m \u001b[39mprint\u001b[39m(decoded_word)\n",
      "\u001b[1;31mUnicodeDecodeError\u001b[0m: 'ascii' codec can't decode byte 0xc3 in position 3: ordinal not in range(128)"
     ]
    }
   ],
   "source": [
    "# café (以 utf-8 編碼，以 asciii 解碼)\n",
    "word = \"caf\\u00e9\"\n",
    "print(word)\n",
    "\n",
    "encoded_word = word.encode(\"utf-8\")\n",
    "print(encoded_word)\n",
    "\n",
    "decoded_word = encoded_word.decode(\"ascii\")\n",
    "print(decoded_word)\n",
    "\n",
    "# 因為 é 無法用 ascii 來表示，所以會出錯。"
   ]
  },
  {
   "cell_type": "code",
   "execution_count": null,
   "metadata": {},
   "outputs": [],
   "source": [
    "# 開啟檔案時，可以指定編碼方式。\n",
    "with open(\"cafe.txt\", \"w\", encoding=\"utf-8\") as f:\n",
    "    f.write(\"café\")"
   ]
  },
  {
   "cell_type": "code",
   "execution_count": 94,
   "metadata": {},
   "outputs": [
    {
     "name": "stdout",
     "output_type": "stream",
     "text": [
      "This HTML fragment contains a &lt;script&gt;script&lt;/script&gt; tag. &lt;p&gt;Goodbye!&lt;/p&gt;\n",
      "è\n",
      "é\n",
      "233\n",
      "eacute\n",
      "b'caf&#233;'\n",
      "caf&#233;\n"
     ]
    }
   ],
   "source": [
    "# HTML 實體 : 適合用來在 HTML 文件中表示 unicode 字元。\n",
    "# 用 & 開頭，以 ; 結尾。\n",
    "import html\n",
    "html_code = html.escape(\"This HTML fragment contains a <script>script</script> tag. <p>Goodbye!</p>\")\n",
    "print(html_code)\n",
    "\n",
    "# 可以使用字典的方式來指定要轉換的字元。\n",
    "from html.entities import html5\n",
    "print(html5[\"egrave\"])\n",
    "\n",
    "# 如果要反向轉換處理字元，需要先用 ord() 來取得 unicode 的編碼，再用 chr() 來取得 unicode 的字元。\n",
    "char = \"\\u00e9\"\n",
    "print(char)\n",
    "\n",
    "code = ord(char)\n",
    "print(code)\n",
    "\n",
    "print(html.entities.codepoint2name[code])\n",
    "\n",
    "# 處理多個字元時，直接用 encode() 來編碼，再用 decode() 來解碼。\n",
    "words = \"caf\\u00e9\"\n",
    "encoded_words = words.encode(\"ascii\", errors=\"xmlcharrefreplace\")\n",
    "print(encoded_words)\n",
    "\n",
    "decoded_words = encoded_words.decode()\n",
    "print(decoded_words)"
   ]
  },
  {
   "cell_type": "code",
   "execution_count": 127,
   "metadata": {},
   "outputs": [
    {
     "name": "stdout",
     "output_type": "stream",
     "text": [
      "é\n",
      "é\n",
      "2\n",
      "1\n",
      "False\n",
      "b'e\\xcc\\x81'\n",
      "b'\\xc3\\xa9'\n",
      "True\n",
      "LATIN SMALL LETTER E WITH ACUTE\n"
     ]
    }
   ],
   "source": [
    "# 某些 unicode 字元可以用組合的方式來表示，超搞...，請小心處理。\n",
    "word = \"e\"\n",
    "symbol = \"\\u0301\"\n",
    "combined_word = word+symbol\n",
    "print(combined_word)\n",
    "\n",
    "true_word = \"\\u00e9\"\n",
    "print(true_word)\n",
    "\n",
    "# 看起來都一樣，但是長度不一樣！實際上用　== 來檢查，或是用 utf-8 來編碼，都會發現是不一樣的。\n",
    "print(len(combined_word))\n",
    "print(len(true_word))\n",
    "print(combined_word == true_word)\n",
    "print(combined_word.encode(\"utf-8\"))\n",
    "print(true_word.encode(\"utf-8\"))\n",
    "\n",
    "# 為了避免這種問題，可以用 unicodedata.normalize() 來處理。\n",
    "import unicodedata\n",
    "combined_normalized = unicodedata.normalize(\"NFC\", combined_word)\n",
    "print(combined_normalized == true_word)\n",
    "print(unicodedata.name(combined_normalized))\n"
   ]
  }
 ],
 "metadata": {
  "kernelspec": {
   "display_name": "Python 3",
   "language": "python",
   "name": "python3"
  },
  "language_info": {
   "codemirror_mode": {
    "name": "ipython",
    "version": 3
   },
   "file_extension": ".py",
   "mimetype": "text/x-python",
   "name": "python",
   "nbconvert_exporter": "python",
   "pygments_lexer": "ipython3",
   "version": "3.10.5"
  }
 },
 "nbformat": 4,
 "nbformat_minor": 2
}
